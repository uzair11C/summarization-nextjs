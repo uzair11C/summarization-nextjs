{
 "cells": [
  {
   "cell_type": "code",
   "execution_count": 1,
   "id": "22786873-8a91-4aec-a9fe-d6823514cf02",
   "metadata": {},
   "outputs": [
    {
     "name": "stderr",
     "output_type": "stream",
     "text": [
      "2024-06-08 13:01:11.593449: I external/local_tsl/tsl/cuda/cudart_stub.cc:31] Could not find cuda drivers on your machine, GPU will not be used.\n",
      "2024-06-08 13:01:11.634203: E external/local_xla/xla/stream_executor/cuda/cuda_dnn.cc:9261] Unable to register cuDNN factory: Attempting to register factory for plugin cuDNN when one has already been registered\n",
      "2024-06-08 13:01:11.634233: E external/local_xla/xla/stream_executor/cuda/cuda_fft.cc:607] Unable to register cuFFT factory: Attempting to register factory for plugin cuFFT when one has already been registered\n",
      "2024-06-08 13:01:11.635290: E external/local_xla/xla/stream_executor/cuda/cuda_blas.cc:1515] Unable to register cuBLAS factory: Attempting to register factory for plugin cuBLAS when one has already been registered\n",
      "2024-06-08 13:01:11.642254: I external/local_tsl/tsl/cuda/cudart_stub.cc:31] Could not find cuda drivers on your machine, GPU will not be used.\n",
      "2024-06-08 13:01:11.643000: I tensorflow/core/platform/cpu_feature_guard.cc:182] This TensorFlow binary is optimized to use available CPU instructions in performance-critical operations.\n",
      "To enable the following instructions: AVX2 FMA, in other operations, rebuild TensorFlow with the appropriate compiler flags.\n",
      "2024-06-08 13:01:12.590960: W tensorflow/compiler/tf2tensorrt/utils/py_utils.cc:38] TF-TRT Warning: Could not find TensorRT\n"
     ]
    },
    {
     "data": {
      "application/vnd.jupyter.widget-view+json": {
       "model_id": "eb4bdceecb714d63850b95ccb7d26796",
       "version_major": 2,
       "version_minor": 0
      },
      "text/plain": [
       "model.safetensors:  82%|########2 | 199M/242M [00:00<?, ?B/s]"
      ]
     },
     "metadata": {},
     "output_type": "display_data"
    },
    {
     "name": "stderr",
     "output_type": "stream",
     "text": [
      "2024-06-08 13:01:34.107652: W external/local_tsl/tsl/framework/cpu_allocator_impl.cc:83] Allocation of 65798144 exceeds 10% of free system memory.\n",
      "2024-06-08 13:01:34.201981: W external/local_tsl/tsl/framework/cpu_allocator_impl.cc:83] Allocation of 65798144 exceeds 10% of free system memory.\n",
      "2024-06-08 13:01:34.212833: W external/local_tsl/tsl/framework/cpu_allocator_impl.cc:83] Allocation of 65798144 exceeds 10% of free system memory.\n",
      "2024-06-08 13:01:34.823356: W external/local_tsl/tsl/framework/cpu_allocator_impl.cc:83] Allocation of 65798144 exceeds 10% of free system memory.\n",
      "All PyTorch model weights were used when initializing TFT5ForConditionalGeneration.\n",
      "\n",
      "All the weights of TFT5ForConditionalGeneration were initialized from the PyTorch model.\n",
      "If your task is similar to the task the model of the checkpoint was trained on, you can already use TFT5ForConditionalGeneration for predictions without further training.\n"
     ]
    },
    {
     "data": {
      "application/vnd.jupyter.widget-view+json": {
       "model_id": "9043828f6718429c9ff0990fd7b168cc",
       "version_major": 2,
       "version_minor": 0
      },
      "text/plain": [
       "tokenizer_config.json:   0%|          | 0.00/2.32k [00:00<?, ?B/s]"
      ]
     },
     "metadata": {},
     "output_type": "display_data"
    },
    {
     "data": {
      "application/vnd.jupyter.widget-view+json": {
       "model_id": "a48ec8396f46482994082d3395aff2e7",
       "version_major": 2,
       "version_minor": 0
      },
      "text/plain": [
       "spiece.model:   0%|          | 0.00/792k [00:00<?, ?B/s]"
      ]
     },
     "metadata": {},
     "output_type": "display_data"
    },
    {
     "data": {
      "application/vnd.jupyter.widget-view+json": {
       "model_id": "a8bcaf4e83fb4bd39eec78a750d2e0d9",
       "version_major": 2,
       "version_minor": 0
      },
      "text/plain": [
       "tokenizer.json:   0%|          | 0.00/1.39M [00:00<?, ?B/s]"
      ]
     },
     "metadata": {},
     "output_type": "display_data"
    },
    {
     "name": "stderr",
     "output_type": "stream",
     "text": [
      "2024-06-08 13:01:39.376946: W external/local_tsl/tsl/framework/cpu_allocator_impl.cc:83] Allocation of 65798144 exceeds 10% of free system memory.\n",
      "2024-06-08 13:01:39.570900: I external/local_xla/xla/service/service.cc:168] XLA service 0x618c936c4f30 initialized for platform Host (this does not guarantee that XLA will be used). Devices:\n",
      "2024-06-08 13:01:39.570921: I external/local_xla/xla/service/service.cc:176]   StreamExecutor device (0): Host, Default Version\n",
      "2024-06-08 13:01:39.600399: I tensorflow/compiler/mlir/tensorflow/utils/dump_mlir_util.cc:269] disabling MLIR crash reproducer, set env var `MLIR_CRASH_REPRODUCER_DIRECTORY` to enable.\n",
      "WARNING: All log messages before absl::InitializeLog() is called are written to STDERR\n",
      "I0000 00:00:1717833699.718141  117765 device_compiler.h:186] Compiled cluster using XLA!  This line is logged at most once for the lifetime of the process.\n",
      "2024-06-08 13:01:39.719177: E external/local_xla/xla/stream_executor/stream_executor_internal.h:177] SetPriority unimplemented for this stream.\n"
     ]
    },
    {
     "name": "stdout",
     "output_type": "stream",
     "text": [
      "Summary: AI is a branch of computer science that focuses on creating intelligent machines that can perform tasks that typically require human intelligence . this includes tasks such as learning, reasoning, problem-solving, understanding natural language, and perceiving the environment . the development of AI technologies has the potential to significantly impact various industries, including healthcare, finance, education, and transportation, by improving efficiency, accuracy, and productivity .\n"
     ]
    }
   ],
   "source": [
    "from transformers import pipeline\n",
    "\n",
    "# Define the text summarization function\n",
    "def summarize_text(text, max_length=150, model=\"t5-small\"):\n",
    "    summarizer = pipeline(\"summarization\", model=model)\n",
    "    summary = summarizer(text, max_length=max_length, min_length=30, do_sample=False)[0]['summary_text']\n",
    "    return summary\n",
    "\n",
    "# Example text to summarize\n",
    "text = \"\"\"\n",
    "Artificial Intelligence (AI) is a branch of computer science that focuses on \n",
    "creating intelligent machines that can perform tasks that typically require human \n",
    "intelligence. This includes tasks such as learning, reasoning, problem-solving, \n",
    "understanding natural language, and perceiving the environment. \n",
    "AI can be classified into two main types: narrow AI, which is designed to \n",
    "perform a narrow task (e.g., facial recognition or internet searches), and \n",
    "general AI, which can perform any intellectual task that a human can do. The \n",
    "development of AI technologies has the potential to significantly impact various \n",
    "industries, including healthcare, finance, education, and transportation, by \n",
    "improving efficiency, accuracy, and productivity. However, the rise of AI also \n",
    "raises ethical and societal concerns, such as job displacement, privacy issues, \n",
    "and the need for regulation to ensure that AI technologies are developed and used \n",
    "responsibly.\n",
    "\"\"\"\n",
    "\n",
    "# Summarize the text\n",
    "summary = summarize_text(text)\n",
    "print(\"Summary:\", summary)\n"
   ]
  },
  {
   "cell_type": "code",
   "execution_count": null,
   "id": "c8d3d817-58f9-4a1e-b66f-528a9ebf953e",
   "metadata": {},
   "outputs": [],
   "source": [
    "\n",
    "\n"
   ]
  }
 ],
 "metadata": {
  "kernelspec": {
   "display_name": "Python 3 (ipykernel)",
   "language": "python",
   "name": "python3"
  },
  "language_info": {
   "codemirror_mode": {
    "name": "ipython",
    "version": 3
   },
   "file_extension": ".py",
   "mimetype": "text/x-python",
   "name": "python",
   "nbconvert_exporter": "python",
   "pygments_lexer": "ipython3",
   "version": "3.10.12"
  }
 },
 "nbformat": 4,
 "nbformat_minor": 5
}
